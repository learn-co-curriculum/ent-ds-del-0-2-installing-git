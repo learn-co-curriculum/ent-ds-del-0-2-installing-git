{
 "cells": [
  {
   "cell_type": "markdown",
   "metadata": {},
   "source": [
    "# Installing Git\n",
    "\n",
    "\n",
    "## Introduction\n",
    "Git is a version control system. That is software which helps you to (a) keep track of the changes you make and (b) more easily collaborate with other people on a team.\n",
    "\n",
    "Learning to use version control is very important. Firstly, when you write code, it allows you to keep track of the changes you make across all the files in a project. That means it's easy to save your work when it's going well, and to revert to the \"last good version\" if you mess something up. \n",
    "\n",
    "Secondly, if you want to collaborate with other people on a project, using version control allows you to work independently in \"branches\" (different sets of changes) and then to \"merge\" (bring together) those changes when they're ready.\n",
    "\n",
    "It's possible to spend days just learning Git. In this course we're just going to focus on the basics so at least you have the right tools and mind set, and you can always improve your Git skills over time.\n",
    "\n",
    "Lets start by getting Git installed.\n",
    "\n",
    "## Objectives\n",
    "You will be able to:\n",
    "* Install Git"
   ]
  },
  {
   "cell_type": "markdown",
   "metadata": {},
   "source": [
    "Go [here](https://git-scm.com/download/win). Then double click on the downloaded exe file. It may open a window asking if you want to allow this application to make changes to your device. Just click “yes”. It will then open the installer. Click “next” to accept the license, and when you “select components” on the next screen make sure to keep the “Windows explorer integration” options checked.\n",
    "\n",
    "Note - if there are any differences in the options provided in the installer you download, just accept the defaults - they’ll be fine!\n",
    "\n",
    "![screen-1](http://curriculum-content.s3.amazonaws.com/data-science/screen-1.png)\n",
    "\n",
    "When asked to select an editor, if you’re familiar with vi/vim feel free to use that, otherwise you should probably select an easier to use text editor such as nano.\n",
    "\n",
    "![screen-2](http://curriculum-content.s3.amazonaws.com/data-science/screen-2.png)\n",
    "\n",
    "When asked to adjust your PATH environment, either of the first two options is fine as you’ll mainly be using Git from the new “Git Bash” program that is being installed. You’re probably best to select “use Git from the Windows Command Prompt” as it’ll give you the option of using it there in the future if you wish.\n",
    "\n",
    "![screen-0](http://curriculum-content.s3.amazonaws.com/data-science/screen-0.png)\n",
    "\n",
    "For https, you should select the “use the OpenSSL library” option.\n",
    "\n",
    "![screen-3](http://curriculum-content.s3.amazonaws.com/data-science/screen-3.png)\n",
    "\n",
    "\n",
    "Select the default option for handling line endings\n",
    "\n",
    "![screen-4](http://curriculum-content.s3.amazonaws.com/data-science/screen-4.png)\n",
    "\n",
    "And use MinTTY as the default terminal emulator\n",
    "\n",
    "![screen-5](http://curriculum-content.s3.amazonaws.com/data-science/screen-5.png)\n",
    "\n",
    "For extra options, enable the file system caching and the git credential manager.\n",
    "\n",
    "![screen-6](http://curriculum-content.s3.amazonaws.com/data-science/screen-6.png)\n",
    "\n",
    "And then wait while git is installed onto your computer.\n",
    "\n",
    "![screen-7](http://curriculum-content.s3.amazonaws.com/data-science/screen-7.png)\n",
    "\n",
    "Finally, click finish to complete setup\n",
    "\n",
    "![screen-8](http://curriculum-content.s3.amazonaws.com/data-science/screen-8.png)\n"
   ]
  },
  {
   "cell_type": "markdown",
   "metadata": {},
   "source": [
    "## Summary\n",
    "\n",
    "Congratulations! You just installed Git. Next up let's introduce you to GitHub."
   ]
  }
 ],
 "metadata": {
  "kernelspec": {
   "display_name": "Python 3",
   "language": "python",
   "name": "python3"
  },
  "language_info": {
   "codemirror_mode": {
    "name": "ipython",
    "version": 3
   },
   "file_extension": ".py",
   "mimetype": "text/x-python",
   "name": "python",
   "nbconvert_exporter": "python",
   "pygments_lexer": "ipython3",
   "version": "3.6.6"
  }
 },
 "nbformat": 4,
 "nbformat_minor": 2
}
